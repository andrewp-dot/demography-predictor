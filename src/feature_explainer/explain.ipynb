{
 "cells": [
  {
   "cell_type": "markdown",
   "metadata": {},
   "source": [
    "# Welocme to feature explainer!"
   ]
  },
  {
   "cell_type": "markdown",
   "metadata": {},
   "source": [
    "## Before all"
   ]
  },
  {
   "cell_type": "code",
   "execution_count": null,
   "metadata": {
    "vscode": {
     "languageId": "plaintext"
    }
   },
   "outputs": [],
   "source": [
    "import os\n",
    "\n",
    "# Get current cwd\n",
    "current_dir = os.path.dirname(os.path.abspath(\"__file__\")) # /src/model_selection\n",
    "\n",
    "# If the cwd is not set properly, change it to the right cwd\n",
    "while not os.getcwd().endswith(\"demography-predictor\"):\n",
    "    os.chdir(os.path.join(current_dir,\"..\"))\n",
    "\n",
    "# Verify the correct directory (should end with demography-predictor)\n",
    "print(os.getcwd()) \n",
    "assert os.getcwd().endswith(\"demography-predictor\")"
   ]
  },
  {
   "cell_type": "markdown",
   "metadata": {},
   "source": [
    "# Imports"
   ]
  },
  {
   "cell_type": "code",
   "execution_count": null,
   "metadata": {
    "vscode": {
     "languageId": "plaintext"
    }
   },
   "outputs": [],
   "source": [
    "import shap\n",
    "import matplotlib.pyplot as plt\n",
    "import numpy as np\n",
    "import torch\n",
    "\n",
    "from src.utils.save_model import get_model\n",
    "\n",
    "from src.local_model.model import BaseLSTM\n",
    "from src.preprocessors.multiple_states_preprocessing import StatesDataLoader\n",
    "\n",
    "from src.utils.log import setup_logging\n"
   ]
  }
 ],
 "metadata": {
  "language_info": {
   "name": "python"
  }
 },
 "nbformat": 4,
 "nbformat_minor": 2
}
